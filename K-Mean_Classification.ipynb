{
  "cells": [
    {
      "cell_type": "markdown",
      "metadata": {},
      "source": "# K-means Clustering on the Palmer Penguins Dataset\n\nThis notebook walks through a complete K-means clustering workflow on the Palmer Penguins dataset. We inspect the data, standardize the numeric features, experiment with a trial number of clusters, use the elbow method with the `kneed` package to pick an optimal cluster count, and visualize the final clusters."
    },
    {
      "cell_type": "markdown",
      "metadata": {},
      "source": "## 1. Imports and setup"
    },
    {
      "cell_type": "code",
      "metadata": {},
      "execution_count": null,
      "outputs": [],
      "source": "# Plot figures inline and import the packages we will use.\n%matplotlib inline\n\nimport numpy as np\nimport pandas as pd\nimport seaborn as sns\nimport matplotlib.pyplot as plt\n\nfrom sklearn.preprocessing import StandardScaler\nfrom sklearn.cluster import KMeans\nfrom sklearn.decomposition import PCA\n\nfrom kneed import KneeLocator\n\nsns.set_theme(style='whitegrid', context='talk')\nplt.rcParams['figure.figsize'] = (10, 6)\n"
    },
    {
      "cell_type": "markdown",
      "metadata": {},
      "source": "## 2. Load and inspect the Palmer Penguins data"
    },
    {
      "cell_type": "code",
      "metadata": {},
      "execution_count": null,
      "outputs": [],
      "source": "penguins = sns.load_dataset('penguins')\nprint(f'Dataset shape: {penguins.shape}')\npenguins.head()\n"
    },
    {
      "cell_type": "code",
      "metadata": {},
      "execution_count": null,
      "outputs": [],
      "source": "# Quick overview of data types and missing values\npenguins.info()\npenguins.isna().sum()\n"
    },
    {
      "cell_type": "code",
      "metadata": {},
      "execution_count": null,
      "outputs": [],
      "source": "# Summary statistics for numeric features\npenguins.describe()\n"
    },
    {
      "cell_type": "markdown",
      "metadata": {},
      "source": "## 3. Select numeric features and handle missing values"
    },
    {
      "cell_type": "code",
      "metadata": {},
      "execution_count": null,
      "outputs": [],
      "source": "numeric_features = ['bill_length_mm', 'bill_depth_mm', 'flipper_length_mm', 'body_mass_g']\npenguins_model = penguins.dropna(subset=numeric_features).reset_index(drop=True)\nX = penguins_model[numeric_features]\nprint(f'Rows after dropping missing numeric values: {len(X)}')\nX.head()\n"
    },
    {
      "cell_type": "code",
      "metadata": {},
      "execution_count": null,
      "outputs": [],
      "source": "# Standardize numeric features so each contributes equally to the distance calculations\nscaler = StandardScaler()\nX_scaled = scaler.fit_transform(X)\nX_scaled_df = pd.DataFrame(X_scaled, columns=numeric_features)\nX_scaled_df.head()\n"
    },
    {
      "cell_type": "markdown",
      "metadata": {},
      "source": "## 4. Trial K-means clustering"
    },
    {
      "cell_type": "code",
      "metadata": {},
      "execution_count": null,
      "outputs": [],
      "source": "trial_k = 3\nkmeans_trial = KMeans(n_clusters=trial_k, n_init=20, random_state=42)\npenguins_model['cluster_trial'] = kmeans_trial.fit_predict(X_scaled_df)\ntrial_inertia = kmeans_trial.inertia_\nprint(f'Inertia for k={trial_k}: {trial_inertia:.2f}')\npenguins_model['cluster_trial'].value_counts().sort_index()\n"
    },
    {
      "cell_type": "code",
      "metadata": {},
      "execution_count": null,
      "outputs": [],
      "source": "# Visualize the trial clustering using two informative features\nfig, ax = plt.subplots()\nsns.scatterplot(data=penguins_model, x='bill_length_mm', y='flipper_length_mm',\n                hue='cluster_trial', palette='tab10', ax=ax)\nax.set_title(f'Trial K-means clustering (k={trial_k})')\nax.legend(title='Cluster', bbox_to_anchor=(1.05, 1), loc='upper left')\nplt.tight_layout()\nplt.show()\n"
    },
    {
      "cell_type": "markdown",
      "metadata": {},
      "source": "## 5. Elbow analysis over a range of k values"
    },
    {
      "cell_type": "code",
      "metadata": {},
      "execution_count": null,
      "outputs": [],
      "source": "k_values = list(range(1, 11))\ninertias = []\nfor k in k_values:\n    model = KMeans(n_clusters=k, n_init=20, random_state=42)\n    model.fit(X_scaled_df)\n    inertias.append(model.inertia_)\n\nfig, ax = plt.subplots()\nax.plot(k_values, inertias, marker='o')\nax.set_xlabel('Number of clusters (k)')\nax.set_ylabel('Inertia (within-cluster sum of squares)')\nax.set_title('Elbow curve for k=1..10')\nplt.xticks(k_values)\nplt.grid(True, which='both', ls='--', linewidth=0.5)\nplt.show()\n"
    },
    {
      "cell_type": "code",
      "metadata": {},
      "execution_count": null,
      "outputs": [],
      "source": "knee_locator = KneeLocator(k_values, inertias, curve='convex', direction='decreasing')\noptimal_k = knee_locator.elbow\nprint(f'Optimal k according to KneeLocator: {optimal_k}')\nbest_k = optimal_k if optimal_k is not None else trial_k\nprint(f'Using k={best_k} for the final model.')\n"
    },
    {
      "cell_type": "markdown",
      "metadata": {},
      "source": "## 6. Fit the final model and inspect clusters"
    },
    {
      "cell_type": "code",
      "metadata": {},
      "execution_count": null,
      "outputs": [],
      "source": "final_kmeans = KMeans(n_clusters=best_k, n_init=20, random_state=42)\npenguins_model['cluster'] = final_kmeans.fit_predict(X_scaled_df)\ncluster_sizes = penguins_model['cluster'].value_counts().sort_index()\ncluster_sizes\n"
    },
    {
      "cell_type": "code",
      "metadata": {},
      "execution_count": null,
      "outputs": [],
      "source": "# Transform cluster centers back to the original units for interpretability\ncentroids_original_scale = pd.DataFrame(\n    scaler.inverse_transform(final_kmeans.cluster_centers_),\n    columns=numeric_features\n)\ncentroids_original_scale\n"
    },
    {
      "cell_type": "markdown",
      "metadata": {},
      "source": "## 7. Visualize the final clusters"
    },
    {
      "cell_type": "code",
      "metadata": {},
      "execution_count": null,
      "outputs": [],
      "source": "# Use PCA to reduce dimensionality for a cleaner 2D visualization\npca = PCA(n_components=2, random_state=42)\ncomponents = pca.fit_transform(X_scaled_df)\ncomponents_df = pd.DataFrame(components, columns=['PC1', 'PC2'])\ncomponents_df['cluster'] = penguins_model['cluster']\ncomponents_df['species'] = penguins_model['species'].reset_index(drop=True)\nexplained_var = pca.explained_variance_ratio_.sum() * 100\nfig, ax = plt.subplots()\nsns.scatterplot(data=components_df, x='PC1', y='PC2', hue='cluster', palette='tab10', ax=ax)\nax.set_title(f'Final K-means clustering visualized in PCA space (k={best_k})')\nax.set_xlabel('PC1')\nax.set_ylabel('PC2')\nax.text(0.02, 0.02, f'Explained variance: {explained_var:.1f}%', transform=ax.transAxes)\nax.legend(title='Cluster', bbox_to_anchor=(1.05, 1), loc='upper left')\nplt.tight_layout()\nplt.show()\n"
    },
    {
      "cell_type": "code",
      "metadata": {},
      "execution_count": null,
      "outputs": [],
      "source": "# Compare clusters to the known species labels for additional context\npd.crosstab(penguins_model['cluster'], penguins_model['species'])\n"
    }
  ],
  "metadata": {
    "kernelspec": {
      "display_name": "Python 3",
      "language": "python",
      "name": "python3"
    },
    "language_info": {
      "name": "python",
      "version": "3.9"
    }
  },
  "nbformat": 4,
  "nbformat_minor": 5
}